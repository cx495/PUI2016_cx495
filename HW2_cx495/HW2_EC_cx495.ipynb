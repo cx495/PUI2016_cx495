{
 "cells": [
  {
   "cell_type": "code",
   "execution_count": 1,
   "metadata": {
    "collapsed": false
   },
   "outputs": [
    {
     "name": "stdout",
     "output_type": "stream",
     "text": [
      "/home/cusp/cx495/PUIdata\n",
      "/gws/open/NYCOpenData/nycopendata/data\n",
      "/gws/open/NYCOpenData/nycopendata/data/h9gi-nx95/1448475295/h9gi-nx95\n"
     ]
    }
   ],
   "source": [
    "from __future__ import division, print_function\n",
    "__author__ = 'Chunqing Xu CUSP 2016'\n",
    "import pylab as pl\n",
    "import json\n",
    "import os\n",
    "import sys\n",
    "import numpy as np\n",
    "from numpy.random import randn\n",
    "\n",
    "from pandas import Series, DataFrame\n",
    "import pandas\n",
    "import pandas as pd\n",
    "PUIdata = os.getenv(\"PUIDATA\")\n",
    "print (PUIdata)\n",
    "dataDirect = os.getenv(\"DFDATA\")https://localhost:8000/user/cx495/notebooks/homedirs/cx495/PUI/HW2_EC_cx495.ipynb#\n",
    "dataSource = dataDirect + \"/h9gi-nx95/1448475295/h9gi-nx95\"\n",
    "print (dataDirect)\n",
    "print (dataSource)"
   ]
  },
  {
   "cell_type": "code",
   "execution_count": 2,
   "metadata": {
    "collapsed": false
   },
   "outputs": [
    {
     "name": "stdout",
     "output_type": "stream",
     "text": [
      "Populating the interactive namespace from numpy and matplotlib\n"
     ]
    }
   ],
   "source": [
    "%pylab inline\n",
    "np.set_printoptions(precision=4, threshold=500)\n",
    "np.random.seed(456676)\n",
    "pl.rc('figure', figsize=(10, 6))\n",
    "pd.options.display.max_rows = 100"
   ]
  },
  {
   "cell_type": "code",
   "execution_count": null,
   "metadata": {
    "collapsed": true
   },
   "outputs": [],
   "source": [
    "#http://stackoverflow.com/questions/17465045/can-pandas-automatically-recognize-dates\n",
    "df_datetime = pd.read_csv(dataSource, parse_dates=[['DATE', 'TIME']])"
   ]
  },
  {
   "cell_type": "code",
   "execution_count": null,
   "metadata": {
    "collapsed": false
   },
   "outputs": [],
   "source": [
    "df_datetime.head(n=5)"
   ]
  },
  {
   "cell_type": "code",
   "execution_count": null,
   "metadata": {
    "collapsed": false
   },
   "outputs": [],
   "source": [
    "col_wDate=['DATE_TIME','NUMBER OF PERSONS INJURED'] \n",
    "df_Injuries = df_datetime[col_wDate]\n",
    "df_Injuries.head(n=5)"
   ]
  },
  {
   "cell_type": "code",
   "execution_count": null,
   "metadata": {
    "collapsed": false
   },
   "outputs": [],
   "source": [
    "ax2 = df_Injuries.plot(x='DATE_TIME', y='NUMBER OF PERSONS INJURED',\n",
    "                                   style='*', label='Injuries', rot=45)\n",
    "ax2.set_title('NY Number of Injures from Vehicle Incidents')\n",
    "ax2.set_ylabel('NUMBER OF INJURIES')\n",
    "\n",
    "plt.show()"
   ]
  },
  {
   "cell_type": "code",
   "execution_count": null,
   "metadata": {
    "collapsed": true
   },
   "outputs": [],
   "source": []
  }
 ],
 "metadata": {
  "kernelspec": {
   "display_name": "PUI2016_Python2",
   "language": "python",
   "name": "pui2016_python2"
  },
  "language_info": {
   "codemirror_mode": {
    "name": "ipython",
    "version": 2
   },
   "file_extension": ".py",
   "mimetype": "text/x-python",
   "name": "python",
   "nbconvert_exporter": "python",
   "pygments_lexer": "ipython2",
   "version": "2.7.12"
  }
 },
 "nbformat": 4,
 "nbformat_minor": 0
}
