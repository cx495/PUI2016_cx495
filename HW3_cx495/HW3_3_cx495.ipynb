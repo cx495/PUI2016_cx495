{
 "cells": [
  {
   "cell_type": "markdown",
   "metadata": {},
   "source": [
    "## Assignment 3\n",
    "### A good Null/alternative hypothesis statement and treatment, with a clear Null and Alternative spelled out AND written out as a formula, and a good interpretation of the Z value you obtain in terms of ability or inability to reject the Null Hypothesis. "
   ]
  },
  {
   "cell_type": "markdown",
   "metadata": {
    "collapsed": true
   },
   "source": [
    "## Question: How is the new bus route for X8 improving commute times?\n",
    "### Null Hypothesis: The mean commute time for the new bus route (Tnew) is the same or longer than the old bus route (Told).\n",
    "### Alternate Hypothesis: The mean commute time for the new bus route (Tnew) is shorter than the old bus route (Told).\n",
    "### Formula\n",
    "### H0: Tnew - Told >= 0    \n",
    "### Ha: Tnew - Told < 0\n",
    "  ###  α = 0.05"
   ]
  },
  {
   "cell_type": "code",
   "execution_count": 16,
   "metadata": {
    "collapsed": true
   },
   "outputs": [],
   "source": [
    "from __future__ import print_function\n",
    "__author__ = 'Chunqing Xu CUSP 2016'\n",
    "import csv\n",
    "import requests\n",
    "import sys\n",
    "import os\n",
    "\n",
    "import numpy as np\n",
    "from numpy.random import randn\n",
    "import pylab as pl\n",
    "import pandas as pd"
   ]
  },
  {
   "cell_type": "code",
   "execution_count": 17,
   "metadata": {
    "collapsed": false
   },
   "outputs": [
    {
     "data": {
      "text/plain": [
       "0    34.466162\n",
       "dtype: float64"
      ]
     },
     "execution_count": 17,
     "metadata": {},
     "output_type": "execute_result"
    }
   ],
   "source": [
    "#Given old bus route data: ~N(u=36,o=6)\n",
    "Told_mean = 36 #mean travel time of old bus route\n",
    "Told_std = 6\n",
    "\n",
    "#busdata = new bus route travel times\n",
    "data = !curl -O https://raw.githubusercontent.com/fedhere/PUI2016_fb55/master/Lab3_fb55/times.txt\n",
    "busdata = pd.read_csv('times.txt', sep=\" \", header = None, )\n",
    "\n",
    "#New bus route mean\n",
    "Tnew_mean = busdata.mean()\n",
    "#busdata.describe()\n",
    "Tnew_mean"
   ]
  },
  {
   "cell_type": "markdown",
   "metadata": {},
   "source": [
    "### Tnew or the new average commute time is 34.466162 which is less than the average of the old bus route."
   ]
  },
  {
   "cell_type": "code",
   "execution_count": 18,
   "metadata": {
    "collapsed": true
   },
   "outputs": [],
   "source": [
    "#new bus route standard deviation\n",
    "Tnew_std = busdata.std()"
   ]
  },
  {
   "cell_type": "markdown",
   "metadata": {},
   "source": [
    "### If p(Ha)-p(Ho) > α the null hypothesis H0 is falsified at the 1-α confidence level\n",
    "### Z Score Formula: z = (x – μ) / (σ / √n) Z ~ (mean(pop) - mean(sample)) / (stdev / sqrt(N))"
   ]
  },
  {
   "cell_type": "code",
   "execution_count": 19,
   "metadata": {
    "collapsed": false
   },
   "outputs": [
    {
     "data": {
      "text/plain": [
       "0    2.556397\n",
       "dtype: float64"
      ]
     },
     "execution_count": 19,
     "metadata": {},
     "output_type": "execute_result"
    }
   ],
   "source": [
    "z_score = (Told_mean-Tnew_mean)/(Told_std/np.sqrt(len(busdata)))\n",
    "z_score"
   ]
  },
  {
   "cell_type": "markdown",
   "metadata": {},
   "source": [
    "### Since the z score is more than 2 standard deviation from the mean, surpassing the threshold, we can reject the null hypothesis. The outcome indicates that average commute time for the new bus route is shorter; statistically significant at the 95% confidence level."
   ]
  }
 ],
 "metadata": {
  "kernelspec": {
   "display_name": "PUI2016_Python2",
   "language": "python",
   "name": "pui2016_python2"
  },
  "language_info": {
   "codemirror_mode": {
    "name": "ipython",
    "version": 2
   },
   "file_extension": ".py",
   "mimetype": "text/x-python",
   "name": "python",
   "nbconvert_exporter": "python",
   "pygments_lexer": "ipython2",
   "version": "2.7.12"
  }
 },
 "nbformat": 4,
 "nbformat_minor": 0
}
